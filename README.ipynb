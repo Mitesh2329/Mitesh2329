- 👋 Hi, I’m @Mitesh2329
- 👀 I’m interested in ...
- 🌱 I’m currently learning ...
- 💞️ I’m looking to collaborate on ...
- 📫 How to reach me ...
- 😄 Pronouns: ...
- ⚡ Fun fact: ...

<!---
Mitesh2329/Mitesh2329 is a ✨ special ✨ repository because its `README.md` (this file) appears on your GitHub profile.
You can click the Preview link to take a look at your changes.
--->
import yfinance as yf
import pandas as pd
from datetime import datetime, timedelta

# Function to fetch stock data
def get_stock_data(ticker, days=10):
    end_date = datetime.now()
    start_date = end_date - timedelta(days=days*2)  # Get extra days to account for weekends/holidays
    data = yf.download(ticker, start=start_date, end=end_date)
    return data[-days:]  # Return the last 'days' entries

# Function to calculate percentage change over the last 10 days
def calculate_percentage_change(data):
    return ((data['Close'][-1] - data['Close'][0]) / data['Close'][0]) * 100

# Function to fetch stocks in the same sector as the selected stock
def get_sector_stocks(selected_stock):
    stock_info = yf.Ticker(selected_stock).info
    sector = stock_info.get('sector')
    sector_stocks = yf.Tickers(list(yf.utils.get_sector_stocks(sector).keys()))
    return sector_stocks.tickers

# Function to suggest similar stocks
def suggest_similar_stocks(selected_stock, price_range=0.1, days=10):
    selected_data = get_stock_data(selected_stock, days)
    selected_price = selected_data['Close'][-1]
    selected_change = calculate_percentage_change(selected_data)

    sector_stocks = get_sector_stocks(selected_stock)
    suggestions = []

    for stock in sector_stocks:
        if stock != selected_stock:
            data = get_stock_data(stock, days)
            price = data['Close'][-1]
            change = calculate_percentage_change(data)

            # Filter by price range and percentage change
            if abs(price - selected_price) / selected_price <= price_range and abs(change - selected_change) <= 5:
                suggestions.append((stock, price, change))
    
    return suggestions

# Example usage
selected_stock = 'PFIZER.NS'  # Ticker for Pfizer

suggestions = suggest_similar_stocks(selected_stock)
print(f"Similar stocks to {selected_stock}:")
for stock, price, change in suggestions:
    print(f"{stock}: Price = {price:.2f}, % Change = {change:.2f}%")
