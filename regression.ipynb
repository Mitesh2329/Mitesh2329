import pandas as pd
import statsmodels.api as sm
import matplotlib.pyplot as plt
import seaborn as sns

# Load the sample data
df = pd.read_excel("PD_IFRS9_Sample_Data.xlsx")

# Define the independent variables and dependent variable
X = df[["GDP_Growth_Rate", "Unemployment_Rate"]]
y = df["PD"]

# Add a constant to the independent variables
X = sm.add_constant(X)

# Fit the regression model
model = sm.OLS(y, X).fit()

# Predicted values and residuals
predicted = model.fittedvalues
residuals = model.resid

# Plotting the predicted vs actual values for linearity check
plt.figure(figsize=(10, 6))
sns.regplot(x=predicted, y=y, lowess=True, line_kws={'color': 'red'})
plt.title("Linearity Check: Predicted vs Actual PD")
plt.xlabel("Predicted PD")
plt.ylabel("Actual PD")
plt.show()